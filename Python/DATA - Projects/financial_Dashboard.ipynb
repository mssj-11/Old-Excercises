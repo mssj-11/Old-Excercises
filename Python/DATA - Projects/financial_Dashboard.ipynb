{
  "nbformat": 4,
  "nbformat_minor": 0,
  "metadata": {
    "colab": {
      "provenance": []
    },
    "kernelspec": {
      "name": "python3",
      "display_name": "Python 3"
    },
    "language_info": {
      "name": "python"
    }
  },
  "cells": [
    {
      "cell_type": "code",
      "execution_count": 1,
      "metadata": {
        "colab": {
          "base_uri": "https://localhost:8080/"
        },
        "id": "rnDZ9-z3Ijb1",
        "outputId": "ce970a7a-f979-49f1-ab88-69609cdc0e9c"
      },
      "outputs": [
        {
          "output_type": "stream",
          "name": "stdout",
          "text": [
            "Requirement already satisfied: bokeh in /usr/local/lib/python3.10/dist-packages (3.3.4)\n",
            "Requirement already satisfied: numpy in /usr/local/lib/python3.10/dist-packages (1.25.2)\n",
            "Requirement already satisfied: yfinance in /usr/local/lib/python3.10/dist-packages (0.2.40)\n",
            "Requirement already satisfied: Jinja2>=2.9 in /usr/local/lib/python3.10/dist-packages (from bokeh) (3.1.4)\n",
            "Requirement already satisfied: contourpy>=1 in /usr/local/lib/python3.10/dist-packages (from bokeh) (1.2.1)\n",
            "Requirement already satisfied: packaging>=16.8 in /usr/local/lib/python3.10/dist-packages (from bokeh) (24.1)\n",
            "Requirement already satisfied: pandas>=1.2 in /usr/local/lib/python3.10/dist-packages (from bokeh) (2.0.3)\n",
            "Requirement already satisfied: pillow>=7.1.0 in /usr/local/lib/python3.10/dist-packages (from bokeh) (9.4.0)\n",
            "Requirement already satisfied: PyYAML>=3.10 in /usr/local/lib/python3.10/dist-packages (from bokeh) (6.0.1)\n",
            "Requirement already satisfied: tornado>=5.1 in /usr/local/lib/python3.10/dist-packages (from bokeh) (6.3.3)\n",
            "Requirement already satisfied: xyzservices>=2021.09.1 in /usr/local/lib/python3.10/dist-packages (from bokeh) (2024.6.0)\n",
            "Requirement already satisfied: requests>=2.31 in /usr/local/lib/python3.10/dist-packages (from yfinance) (2.31.0)\n",
            "Requirement already satisfied: multitasking>=0.0.7 in /usr/local/lib/python3.10/dist-packages (from yfinance) (0.0.11)\n",
            "Requirement already satisfied: lxml>=4.9.1 in /usr/local/lib/python3.10/dist-packages (from yfinance) (4.9.4)\n",
            "Requirement already satisfied: platformdirs>=2.0.0 in /usr/local/lib/python3.10/dist-packages (from yfinance) (4.2.2)\n",
            "Requirement already satisfied: pytz>=2022.5 in /usr/local/lib/python3.10/dist-packages (from yfinance) (2023.4)\n",
            "Requirement already satisfied: frozendict>=2.3.4 in /usr/local/lib/python3.10/dist-packages (from yfinance) (2.4.4)\n",
            "Requirement already satisfied: peewee>=3.16.2 in /usr/local/lib/python3.10/dist-packages (from yfinance) (3.17.5)\n",
            "Requirement already satisfied: beautifulsoup4>=4.11.1 in /usr/local/lib/python3.10/dist-packages (from yfinance) (4.12.3)\n",
            "Requirement already satisfied: html5lib>=1.1 in /usr/local/lib/python3.10/dist-packages (from yfinance) (1.1)\n",
            "Requirement already satisfied: soupsieve>1.2 in /usr/local/lib/python3.10/dist-packages (from beautifulsoup4>=4.11.1->yfinance) (2.5)\n",
            "Requirement already satisfied: six>=1.9 in /usr/local/lib/python3.10/dist-packages (from html5lib>=1.1->yfinance) (1.16.0)\n",
            "Requirement already satisfied: webencodings in /usr/local/lib/python3.10/dist-packages (from html5lib>=1.1->yfinance) (0.5.1)\n",
            "Requirement already satisfied: MarkupSafe>=2.0 in /usr/local/lib/python3.10/dist-packages (from Jinja2>=2.9->bokeh) (2.1.5)\n",
            "Requirement already satisfied: python-dateutil>=2.8.2 in /usr/local/lib/python3.10/dist-packages (from pandas>=1.2->bokeh) (2.8.2)\n",
            "Requirement already satisfied: tzdata>=2022.1 in /usr/local/lib/python3.10/dist-packages (from pandas>=1.2->bokeh) (2024.1)\n",
            "Requirement already satisfied: charset-normalizer<4,>=2 in /usr/local/lib/python3.10/dist-packages (from requests>=2.31->yfinance) (3.3.2)\n",
            "Requirement already satisfied: idna<4,>=2.5 in /usr/local/lib/python3.10/dist-packages (from requests>=2.31->yfinance) (3.7)\n",
            "Requirement already satisfied: urllib3<3,>=1.21.1 in /usr/local/lib/python3.10/dist-packages (from requests>=2.31->yfinance) (2.0.7)\n",
            "Requirement already satisfied: certifi>=2017.4.17 in /usr/local/lib/python3.10/dist-packages (from requests>=2.31->yfinance) (2024.6.2)\n"
          ]
        }
      ],
      "source": [
        "!pip install bokeh numpy yfinance"
      ]
    },
    {
      "cell_type": "code",
      "source": [
        "import math\n",
        "import datetime as dt\n",
        "\n",
        "import numpy as np\n",
        "import yfinance as yf\n",
        "\n",
        "from bokeh.io import curdoc\n",
        "from bokeh.plotting import figure\n",
        "from bokeh.layouts import row, column\n",
        "from bokeh.models import TextInput, Button, DatePicker, MultiChoice\n"
      ],
      "metadata": {
        "id": "ix_pfNJ5IzyP"
      },
      "execution_count": 8,
      "outputs": []
    },
    {
      "cell_type": "code",
      "source": [
        "def load_data(ticker1, ticker2, start, end):\n",
        "    df1 = yf.download(ticker1, start, end)\n",
        "    df2 = yf.download(ticker2, start, end)\n",
        "    return df1, df2"
      ],
      "metadata": {
        "id": "LABtEkWBKGc0"
      },
      "execution_count": 9,
      "outputs": []
    },
    {
      "cell_type": "code",
      "source": [
        "def plot_data(data, indicators, sync_axis=None):\n",
        "  df = data\n",
        "  gain = df.Close > df.Open\n",
        "  loss = df.Open > df.Close\n",
        "  width = 12 * 60 * 60 * 1000\n",
        "\n",
        "  if sync_axis is None:\n",
        "    p = figure(x_axis_type='datetime', tools='pan,wheel_zoom,box_zoom,reset,save', width=1000, x_range=sync_axis)\n",
        "  else:\n",
        "    p = figure(x_axis_type='datetime', tools='pan,wheel_zoom,box_zoom,reset,save', width=1000)\n",
        "\n",
        "  p.xaxis.major_label_orientation = math.pi / 4\n",
        "  p.grid.grid_line_alpha = 0.25\n",
        "\n",
        "  p.segment(df.index, df.High, df.index, df.Low, color='black')\n",
        "  p.vbar(df.index[gain], width, df.Open[gain], df.Close[gain], fill_color='#00FF00', line_color='#00FF00')\n",
        "  p.vbar(df.index[loss], width, df.Open[loss], df.Close[loss], fill_color='#FF0000', line_color='#FF0000')\n",
        "\n",
        "  return p"
      ],
      "metadata": {
        "id": "VBkwtw0RKlRp"
      },
      "execution_count": 10,
      "outputs": []
    },
    {
      "cell_type": "code",
      "source": [
        "def on_button_clicked(ticker1, ticker2, start, end, indicators):\n",
        "  df1, df2 = load_data(ticker1, ticker2, start, end)\n",
        "  pl1 = plot_data(df1, indicators)\n",
        "  pl2 = plot_data(df2, indicators, sync_axis=pl1.x_range)\n",
        "\n",
        "  curdoc().clear()\n",
        "  curdoc().add_root(layout)\n",
        "  curdoc().add_root(row(pl1, pl2))"
      ],
      "metadata": {
        "id": "wj1i4ysaK4qC"
      },
      "execution_count": 11,
      "outputs": []
    },
    {
      "cell_type": "code",
      "source": [
        "stock1_text = TextInput(title='Stock 1')\n",
        "stock2_text = TextInput(title='Stock 2')\n",
        "\n",
        "\n",
        "date_Picker_From = DatePicker(title='Start Date', value='2024-01-01',\n",
        "                        min_date='2000-01-01', max_date=dt.datetime.now().strftime('%Y-%m-%d'))\n",
        "\n",
        "date_Picker_To = DatePicker(title='End Date', value='2024-02-01',\n",
        "                        min_date='2000-01-01', max_date=dt.datetime.now().strftime('%Y-%m-%d'))\n",
        "\n",
        "\n",
        "indicators_Choice = MultiChoice(title='Indicators', options=['100 DAY SMA', '30 DAY EMA', 'Linear Regression Line'])\n",
        "\n",
        "\n",
        "load_button = Button(label='Load Data', button_type='success')\n",
        "load_button.on_click(lambda: on_button_clicked(stock1_text.value, stock2_text.value,\n",
        "                                               date_Picker_From.value, date_Picker_To.value,\n",
        "                                               indicators_Choice.value))\n",
        "\n",
        "\n",
        "layout = column(stock1_text, stock2_text, date_Picker_From, date_Picker_To, indicators_Choice, load_button)\n",
        "curdoc().clear()\n",
        "curdoc().add_root(layout)"
      ],
      "metadata": {
        "id": "veXR1aNjLJAP"
      },
      "execution_count": 12,
      "outputs": []
    }
  ]
}