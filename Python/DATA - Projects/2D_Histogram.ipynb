{
  "nbformat": 4,
  "nbformat_minor": 0,
  "metadata": {
    "colab": {
      "provenance": []
    },
    "kernelspec": {
      "name": "python3",
      "display_name": "Python 3"
    },
    "language_info": {
      "name": "python"
    }
  },
  "cells": [
    {
      "cell_type": "code",
      "source": [
        "# Instalar Librerias\n",
        "!pip install matplotlib numpy"
      ],
      "metadata": {
        "colab": {
          "base_uri": "https://localhost:8080/"
        },
        "id": "bxAlOr0kC7c7",
        "outputId": "d3c0196e-9ef5-47e9-db41-eb92fd850870"
      },
      "execution_count": 4,
      "outputs": [
        {
          "output_type": "stream",
          "name": "stdout",
          "text": [
            "Requirement already satisfied: matplotlib in /usr/local/lib/python3.10/dist-packages (3.7.1)\n",
            "Requirement already satisfied: numpy in /usr/local/lib/python3.10/dist-packages (1.25.2)\n",
            "Requirement already satisfied: contourpy>=1.0.1 in /usr/local/lib/python3.10/dist-packages (from matplotlib) (1.2.1)\n",
            "Requirement already satisfied: cycler>=0.10 in /usr/local/lib/python3.10/dist-packages (from matplotlib) (0.12.1)\n",
            "Requirement already satisfied: fonttools>=4.22.0 in /usr/local/lib/python3.10/dist-packages (from matplotlib) (4.53.0)\n",
            "Requirement already satisfied: kiwisolver>=1.0.1 in /usr/local/lib/python3.10/dist-packages (from matplotlib) (1.4.5)\n",
            "Requirement already satisfied: packaging>=20.0 in /usr/local/lib/python3.10/dist-packages (from matplotlib) (24.1)\n",
            "Requirement already satisfied: pillow>=6.2.0 in /usr/local/lib/python3.10/dist-packages (from matplotlib) (9.4.0)\n",
            "Requirement already satisfied: pyparsing>=2.3.1 in /usr/local/lib/python3.10/dist-packages (from matplotlib) (3.1.2)\n",
            "Requirement already satisfied: python-dateutil>=2.7 in /usr/local/lib/python3.10/dist-packages (from matplotlib) (2.8.2)\n",
            "Requirement already satisfied: six>=1.5 in /usr/local/lib/python3.10/dist-packages (from python-dateutil>=2.7->matplotlib) (1.16.0)\n"
          ]
        }
      ]
    },
    {
      "cell_type": "code",
      "execution_count": 5,
      "metadata": {
        "id": "k3Uis6pVCkIf"
      },
      "outputs": [],
      "source": [
        "# Importar Librerías\n",
        "import matplotlib.pyplot as plt\n",
        "import numpy as np"
      ]
    },
    {
      "cell_type": "markdown",
      "source": [
        "Se importan las librerías necesarias, `matplotlib.pyplot` se utiliza para la visualización y `numpy` para la generación de datos aleatorios y otras operaciones numéricas."
      ],
      "metadata": {
        "id": "OsEKiK75Fip7"
      }
    },
    {
      "cell_type": "code",
      "source": [
        "# Generación de datos aleatorios\n",
        "data = np.random.randn(1000, 5)"
      ],
      "metadata": {
        "id": "zvV3NlspDKbw"
      },
      "execution_count": 6,
      "outputs": []
    },
    {
      "cell_type": "markdown",
      "source": [
        "Se generan 1000 filas de datos aleatorios con una distribución normal estándar (media 0 y desviación estándar 1). Cada fila tiene 5 columnas."
      ],
      "metadata": {
        "id": "1GJVYEyOF0Hd"
      }
    },
    {
      "cell_type": "code",
      "source": [
        "# Creación del Histograma 2D\n",
        "plt.hist2d(data[:,0], data[:,1], bins=20)\n",
        "\n",
        "# Agregando una barra de color\n",
        "plt.colorbar()\n",
        "\n",
        "# Mostrando el histograma\n",
        "plt.show()"
      ],
      "metadata": {
        "colab": {
          "base_uri": "https://localhost:8080/",
          "height": 430
        },
        "id": "2ARx889yDdps",
        "outputId": "16413bc9-4e5f-49b1-b345-70b9197ab84a"
      },
      "execution_count": 14,
      "outputs": [
        {
          "output_type": "display_data",
          "data": {
            "text/plain": [
              "<Figure size 640x480 with 2 Axes>"
            ],
            "image/png": "[encoded data removed]"
          },
          "metadata": {}
        }
      ]
    },
    {
      "cell_type": "markdown",
      "source": [
        "Se crea un histograma 2D utilizando los datos de las dos primeras columnas (`data[:,0]` y `data[:,1]`) de la matriz `data`. El parámetro `bins=20` especifica que se dividirá el espacio en 20x20 contenedores (bins)."
      ],
      "metadata": {
        "id": "ime8yKYZGEp7"
      }
    }
  ]
}