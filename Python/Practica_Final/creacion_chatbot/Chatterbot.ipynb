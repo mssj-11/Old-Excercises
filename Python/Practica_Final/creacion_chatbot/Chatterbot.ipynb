{
  "nbformat": 4,
  "nbformat_minor": 0,
  "metadata": {
    "colab": {
      "name": "Chatterbot.ipynb",
      "provenance": [],
      "collapsed_sections": []
    },
    "kernelspec": {
      "name": "python3",
      "display_name": "Python 3"
    },
    "language_info": {
      "name": "python"
    }
  },
  "cells": [
    {
      "cell_type": "code",
      "metadata": {
        "colab": {
          "base_uri": "https://localhost:8080/"
        },
        "id": "FkRCUemKep5N",
        "outputId": "43197e63-0601-46b3-ca2b-1692ad99246d"
      },
      "source": [
        "!pip install chatterbot"
      ],
      "execution_count": 19,
      "outputs": [
        {
          "output_type": "stream",
          "text": [
            "Requirement already satisfied: chatterbot in /usr/local/lib/python3.7/dist-packages (1.0.8)\n",
            "Requirement already satisfied: pytz in /usr/local/lib/python3.7/dist-packages (from chatterbot) (2018.9)\n",
            "Requirement already satisfied: python-dateutil<2.9,>=2.8 in /usr/local/lib/python3.7/dist-packages (from chatterbot) (2.8.1)\n",
            "Requirement already satisfied: sqlalchemy<1.4,>=1.3 in /usr/local/lib/python3.7/dist-packages (from chatterbot) (1.3.24)\n",
            "Requirement already satisfied: mathparse<0.2,>=0.1 in /usr/local/lib/python3.7/dist-packages (from chatterbot) (0.1.2)\n",
            "Requirement already satisfied: six>=1.5 in /usr/local/lib/python3.7/dist-packages (from python-dateutil<2.9,>=2.8->chatterbot) (1.15.0)\n"
          ],
          "name": "stdout"
        }
      ]
    },
    {
      "cell_type": "code",
      "metadata": {
        "colab": {
          "base_uri": "https://localhost:8080/",
          "height": 129
        },
        "id": "yMsfy2TeglQF",
        "outputId": "11cf34e6-c981-4017-dae7-4b49dbcda683"
      },
      "source": [
        "from chatterbot import ChatBot\n",
        "from chatterbot.trainers import ListTrainer\n",
        "\n",
        "#Creacion del CHATBOt\n",
        "bot = ChatBot(\n",
        "    'BOT creado por TEAM BITS',\n",
        "    storage_adapter = 'chatterbot.storage.SQLStorageAdapter',\n",
        "    database_uri = 'sqlite:///basedatosconversacion.sqlite3',\n",
        "    logic_adapters = [\n",
        "                      'chatterbot.logic.BestMatch',\n",
        "                      ]\n",
        ")\n",
        "\n",
        "#Creacion del entrenador para el BOT --> de tipo LISTA\n",
        "trainer = ListTrainer(bot)\n",
        "\n",
        "#Definiremos CONVERSACIONES\n",
        "#CONVERSACION (1)\n",
        "trainer.train(\n",
        "    [\n",
        "     '¿Hola como estas?',\n",
        "     'Bien , Gracias por Preguntar',\n",
        "     'Me da mucho gusto',\n",
        "     'Gracias :)'\n",
        "    ]\n",
        ")\n",
        "\n",
        "#CONVERSACION (2)\n",
        "trainer.train(\n",
        "    [\n",
        "     '¿Hola como estas?',\n",
        "     'Estoy Muy Bien , Gracias por Preguntar',\n",
        "     '¡GENIAL!',\n",
        "     'Gracias :V'\n",
        "    ]\n",
        ")\n",
        "\n",
        "#PASO DE RESPUESTAS POR UN BUCLE INFINITO\n",
        "while True:\n",
        "  try:\n",
        "    bot_input = bot.get_response(input())\n",
        "    print(bot_input)\n",
        "\n",
        "#LECTURA DE POSIBLE ERROR\n",
        "    except(keyboardInterrupt, EOFError, SystemExit):\n",
        "    break\n",
        "\n",
        "\n"
      ],
      "execution_count": 21,
      "outputs": [
        {
          "output_type": "error",
          "ename": "SyntaxError",
          "evalue": "ignored",
          "traceback": [
            "\u001b[0;36m  File \u001b[0;32m\"<ipython-input-21-224a577edd15>\"\u001b[0;36m, line \u001b[0;32m45\u001b[0m\n\u001b[0;31m    except(keyboardInterrupt, EOFError, SystemExit):\u001b[0m\n\u001b[0m         ^\u001b[0m\n\u001b[0;31mSyntaxError\u001b[0m\u001b[0;31m:\u001b[0m invalid syntax\n"
          ]
        }
      ]
    }
  ]
}